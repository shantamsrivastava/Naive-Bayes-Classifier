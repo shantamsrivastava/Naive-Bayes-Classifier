{
 "cells": [
  {
   "cell_type": "code",
   "execution_count": null,
   "metadata": {},
   "outputs": [],
   "source": []
  }
 ],
 "metadata": {
  "kernelspec": {
   "display_name": "base",
   "language": "python",
   "name": "python3"
  },
  "language_info": {
   "name": "python",
   "version": "3.8.8"
  },
  "vscode": {
   "interpreter": {
    "hash": "8241c51ca8075870cd301b4c7677609d339d8e153fe05fd7709d9be3fdab28e2"
   }
  }
 },
 "nbformat": 4,
 "nbformat_minor": 5
}
