{
 "cells": [
  {
   "cell_type": "markdown",
   "id": "f8bd4c77",
   "metadata": {},
   "source": [
    "## Importing Libraries"
   ]
  },
  {
   "cell_type": "code",
   "execution_count": 42,
   "id": "ca268e47",
   "metadata": {},
   "outputs": [],
   "source": [
    "import pandas as pd\n",
    "import numpy as np\n",
    "import import_ipynb\n",
    "import Data\n",
    "import warnings\n",
    "warnings.filterwarnings('ignore')"
   ]
  },
  {
   "cell_type": "markdown",
   "id": "80fe8292",
   "metadata": {},
   "source": [
    "## Data Handling"
   ]
  },
  {
   "cell_type": "code",
   "execution_count": 43,
   "id": "a5977028",
   "metadata": {},
   "outputs": [
    {
     "data": {
      "text/html": [
       "<div>\n",
       "<style scoped>\n",
       "    .dataframe tbody tr th:only-of-type {\n",
       "        vertical-align: middle;\n",
       "    }\n",
       "\n",
       "    .dataframe tbody tr th {\n",
       "        vertical-align: top;\n",
       "    }\n",
       "\n",
       "    .dataframe thead th {\n",
       "        text-align: right;\n",
       "    }\n",
       "</style>\n",
       "<table border=\"1\" class=\"dataframe\">\n",
       "  <thead>\n",
       "    <tr style=\"text-align: right;\">\n",
       "      <th></th>\n",
       "      <th>Age</th>\n",
       "      <th>Workclass</th>\n",
       "      <th>Fnlwgt</th>\n",
       "      <th>Education</th>\n",
       "      <th>Edcuation-num</th>\n",
       "      <th>Marital-status</th>\n",
       "      <th>Occupation</th>\n",
       "      <th>Relationship</th>\n",
       "      <th>Race</th>\n",
       "      <th>Sex</th>\n",
       "      <th>Captial-gain</th>\n",
       "      <th>Capital-loss</th>\n",
       "      <th>Hours-per-week</th>\n",
       "      <th>Native Country</th>\n",
       "      <th>Salary</th>\n",
       "    </tr>\n",
       "  </thead>\n",
       "  <tbody>\n",
       "    <tr>\n",
       "      <th>0</th>\n",
       "      <td>39.0</td>\n",
       "      <td>State-gov</td>\n",
       "      <td>77516</td>\n",
       "      <td>Bachelors</td>\n",
       "      <td>13</td>\n",
       "      <td>Never-married</td>\n",
       "      <td>Adm-clerical</td>\n",
       "      <td>Not-in-family</td>\n",
       "      <td>White</td>\n",
       "      <td>Male</td>\n",
       "      <td>2174</td>\n",
       "      <td>0</td>\n",
       "      <td>40</td>\n",
       "      <td>United-States</td>\n",
       "      <td>&lt;=50K</td>\n",
       "    </tr>\n",
       "    <tr>\n",
       "      <th>1</th>\n",
       "      <td>50.0</td>\n",
       "      <td>Self-emp-not-inc</td>\n",
       "      <td>83311</td>\n",
       "      <td>Bachelors</td>\n",
       "      <td>13</td>\n",
       "      <td>Married-civ-spouse</td>\n",
       "      <td>Exec-managerial</td>\n",
       "      <td>Husband</td>\n",
       "      <td>White</td>\n",
       "      <td>Male</td>\n",
       "      <td>0</td>\n",
       "      <td>0</td>\n",
       "      <td>13</td>\n",
       "      <td>United-States</td>\n",
       "      <td>&lt;=50K</td>\n",
       "    </tr>\n",
       "    <tr>\n",
       "      <th>2</th>\n",
       "      <td>38.0</td>\n",
       "      <td>Private</td>\n",
       "      <td>215646</td>\n",
       "      <td>HS-grad</td>\n",
       "      <td>9</td>\n",
       "      <td>Divorced</td>\n",
       "      <td>Handlers-cleaners</td>\n",
       "      <td>Not-in-family</td>\n",
       "      <td>White</td>\n",
       "      <td>Male</td>\n",
       "      <td>0</td>\n",
       "      <td>0</td>\n",
       "      <td>40</td>\n",
       "      <td>United-States</td>\n",
       "      <td>&lt;=50K</td>\n",
       "    </tr>\n",
       "    <tr>\n",
       "      <th>3</th>\n",
       "      <td>53.0</td>\n",
       "      <td>Private</td>\n",
       "      <td>234721</td>\n",
       "      <td>11th</td>\n",
       "      <td>7</td>\n",
       "      <td>Married-civ-spouse</td>\n",
       "      <td>Handlers-cleaners</td>\n",
       "      <td>Husband</td>\n",
       "      <td>Black</td>\n",
       "      <td>Male</td>\n",
       "      <td>0</td>\n",
       "      <td>0</td>\n",
       "      <td>40</td>\n",
       "      <td>United-States</td>\n",
       "      <td>&lt;=50K</td>\n",
       "    </tr>\n",
       "    <tr>\n",
       "      <th>4</th>\n",
       "      <td>28.0</td>\n",
       "      <td>Private</td>\n",
       "      <td>338409</td>\n",
       "      <td>Bachelors</td>\n",
       "      <td>13</td>\n",
       "      <td>Married-civ-spouse</td>\n",
       "      <td>Prof-specialty</td>\n",
       "      <td>Wife</td>\n",
       "      <td>Black</td>\n",
       "      <td>Female</td>\n",
       "      <td>0</td>\n",
       "      <td>0</td>\n",
       "      <td>40</td>\n",
       "      <td>Cuba</td>\n",
       "      <td>&lt;=50K</td>\n",
       "    </tr>\n",
       "  </tbody>\n",
       "</table>\n",
       "</div>"
      ],
      "text/plain": [
       "    Age         Workclass  Fnlwgt  Education  Edcuation-num  \\\n",
       "0  39.0         State-gov   77516  Bachelors             13   \n",
       "1  50.0  Self-emp-not-inc   83311  Bachelors             13   \n",
       "2  38.0           Private  215646    HS-grad              9   \n",
       "3  53.0           Private  234721       11th              7   \n",
       "4  28.0           Private  338409  Bachelors             13   \n",
       "\n",
       "       Marital-status         Occupation   Relationship   Race     Sex  \\\n",
       "0       Never-married       Adm-clerical  Not-in-family  White    Male   \n",
       "1  Married-civ-spouse    Exec-managerial        Husband  White    Male   \n",
       "2            Divorced  Handlers-cleaners  Not-in-family  White    Male   \n",
       "3  Married-civ-spouse  Handlers-cleaners        Husband  Black    Male   \n",
       "4  Married-civ-spouse     Prof-specialty           Wife  Black  Female   \n",
       "\n",
       "   Captial-gain  Capital-loss  Hours-per-week Native Country Salary  \n",
       "0          2174             0              40  United-States  <=50K  \n",
       "1             0             0              13  United-States  <=50K  \n",
       "2             0             0              40  United-States  <=50K  \n",
       "3             0             0              40  United-States  <=50K  \n",
       "4             0             0              40           Cuba  <=50K  "
      ]
     },
     "execution_count": 43,
     "metadata": {},
     "output_type": "execute_result"
    }
   ],
   "source": [
    "df = pd.read_csv('Dataset.csv')\n",
    "df1 = df.applymap(lambda x: x.strip() if isinstance(x, str) else x)\n",
    "df1.head()"
   ]
  },
  {
   "cell_type": "code",
   "execution_count": 44,
   "id": "e78df5f1",
   "metadata": {},
   "outputs": [],
   "source": [
    "d = Data.data_fix(df)\n",
    "train,test = Data.split(d)"
   ]
  },
  {
   "cell_type": "code",
   "execution_count": 45,
   "id": "609c1b71",
   "metadata": {},
   "outputs": [],
   "source": [
    "\n",
    "train = train.applymap(lambda x: x.strip() if isinstance(x, str) else x)\n",
    "test = test.applymap(lambda x: x.strip() if isinstance(x, str) else x)\n"
   ]
  },
  {
   "cell_type": "markdown",
   "id": "6c0f9381",
   "metadata": {},
   "source": [
    "## Prior Probabilty "
   ]
  },
  {
   "cell_type": "code",
   "execution_count": 46,
   "id": "e70c2f12",
   "metadata": {},
   "outputs": [],
   "source": [
    "def prior(dataf):\n",
    "    rich = 0\n",
    "    poor = 0\n",
    "    for i in range(len(dataf)):\n",
    "        if(dataf.iloc[i,14] == '>50K'):\n",
    "            rich = rich + 1\n",
    "        else:\n",
    "            poor = poor + 1\n",
    "\n",
    "    rich_prior_prob = rich / (rich + poor)\n",
    "    poor_prior_prob = poor / (rich + poor)\n",
    "    return rich_prior_prob, poor_prior_prob"
   ]
  },
  {
   "cell_type": "code",
   "execution_count": 47,
   "id": "f1375934",
   "metadata": {},
   "outputs": [
    {
     "data": {
      "text/plain": [
       "(0.24747624703087887, 0.7525237529691211)"
      ]
     },
     "execution_count": 47,
     "metadata": {},
     "output_type": "execute_result"
    }
   ],
   "source": [
    "prior(train)"
   ]
  },
  {
   "cell_type": "markdown",
   "id": "de12a990",
   "metadata": {},
   "source": [
    "## Conditional Probability of Each Feature given the Class"
   ]
  },
  {
   "cell_type": "code",
   "execution_count": 48,
   "id": "de0c5e32",
   "metadata": {},
   "outputs": [],
   "source": [
    "rich = pd.DataFrame()\n",
    "poor = pd.DataFrame()\n",
    "for i in range(len(train)):\n",
    "    if(train.iloc[i,14] == '>50K'):\n",
    "        rich = rich.append(train.iloc[i],ignore_index = True)\n",
    "    else:\n",
    "        poor = poor.append(train.iloc[i],ignore_index = True)"
   ]
  },
  {
   "cell_type": "code",
   "execution_count": 49,
   "id": "0af29a52",
   "metadata": {},
   "outputs": [
    {
     "name": "stdout",
     "output_type": "stream",
     "text": [
      "Conditional Probabilty of Age <= 20 given the income is greater than 50k is:  0.0001999600079984003\n",
      "Conditional Probabilty of 20 < Age <= 30 given the income is greater than 50k is:  0.08638272345530894\n",
      "Conditional Probabilty of 30 < Age <= 40 given the income is greater than 50k is:  0.3061387722455509\n",
      "Conditional Probabilty of 40 < Age <= 50 given the income is greater than 50k is:  0.34573085382923413\n",
      "Conditional Probabilty of Age > 50 given the income is greater than 50k is:  0.2615476904619076\n"
     ]
    }
   ],
   "source": [
    "\"\"\"\n",
    "\n",
    "This Entire Code Block is for individuals with an income higher than 50k\n",
    "\n",
    "\"\"\"\n",
    "age0, age1, age2, age3, age4 = 0,0,0,0,0\n",
    "for i in range(len(rich)):\n",
    "    if(rich.iloc[i,0] <= 20.0):\n",
    "        age0 = age0 + 1\n",
    "    elif(rich.iloc[i,0] <= 30.0 and rich.iloc[i,0] > 20):\n",
    "        age1 = age1 + 1\n",
    "    elif(rich.iloc[i,0] <= 40.0 and rich.iloc[i,0] > 30):\n",
    "        age2 = age2 + 1\n",
    "    elif(rich.iloc[i,0] <= 50.0 and rich.iloc[i,0] > 40):\n",
    "        age3 = age3 + 1\n",
    "    elif(rich.iloc[i,0] > 50):\n",
    "        age4 = age4 + 1\n",
    "\n",
    "sum = age0 + age1 + age2 + age3 + age4\n",
    "r0_prob0 = age0 / sum\n",
    "r0_prob1 = age1 / sum\n",
    "r0_prob2 = age2 / sum\n",
    "r0_prob3 = age3 / sum\n",
    "r0_prob4 = age4 / sum\n",
    "\n",
    "print(\"Conditional Probabilty of Age <= 20 given the income is greater than 50k is: \", r0_prob0)\n",
    "print(\"Conditional Probabilty of 20 < Age <= 30 given the income is greater than 50k is: \", r0_prob1)\n",
    "print(\"Conditional Probabilty of 30 < Age <= 40 given the income is greater than 50k is: \", r0_prob2)\n",
    "print(\"Conditional Probabilty of 40 < Age <= 50 given the income is greater than 50k is: \", r0_prob3)\n",
    "print(\"Conditional Probabilty of Age > 50 given the income is greater than 50k is: \", r0_prob4)     "
   ]
  },
  {
   "cell_type": "code",
   "execution_count": 50,
   "id": "ff1e4d47",
   "metadata": {},
   "outputs": [
    {
     "name": "stdout",
     "output_type": "stream",
     "text": [
      "Conditional Probabilty of Age <= 20 given the income is less than or equal to 50k is:  0.08686788978759781\n",
      "Conditional Probabilty of 20 < Age <= 30 given the income is less than or equal to 50k is:  0.3104491352666535\n",
      "Conditional Probabilty of 30 < Age <= 40 given the income is less than or equal to 50k is:  0.2555402117445913\n",
      "Conditional Probabilty of 40 < Age <= 50 given the income is less than or equal to 50k is:  0.17932531071217203\n",
      "Conditional Probabilty of Age > 50 given the income is less than or equal to 50k is:  0.16781745248898533\n"
     ]
    }
   ],
   "source": [
    "\"\"\"\n",
    "\n",
    "This Entire Code Block is for individuals with an income less than or equal to 50k\n",
    "\n",
    "\"\"\"\n",
    "age0, age1, age2, age3, age4 = 0,0,0,0,0\n",
    "for i in range(len(poor)):\n",
    "    if(poor.iloc[i,0] <= 20.0):\n",
    "        age0 = age0 + 1\n",
    "    elif(poor.iloc[i,0] <= 30.0 and poor.iloc[i,0] > 20):\n",
    "        age1 = age1 + 1\n",
    "    elif(poor.iloc[i,0] <= 40.0 and poor.iloc[i,0] > 30):\n",
    "        age2 = age2 + 1\n",
    "    elif(poor.iloc[i,0] <= 50.0 and poor.iloc[i,0] > 40):\n",
    "        age3 = age3 + 1\n",
    "    elif(poor.iloc[i,0] > 50):\n",
    "        age4 = age4 + 1\n",
    "\n",
    "summ = age0 + age1 + age2 + age3 + age4\n",
    "p0_prob0 = age0 / summ\n",
    "p0_prob1 = age1 / summ\n",
    "p0_prob2 = age2 / summ\n",
    "p0_prob3 = age3 / summ\n",
    "p0_prob4 = age4 / summ\n",
    "\n",
    "print(\"Conditional Probabilty of Age <= 20 given the income is less than or equal to 50k is: \", p0_prob0)\n",
    "print(\"Conditional Probabilty of 20 < Age <= 30 given the income is less than or equal to 50k is: \", p0_prob1)\n",
    "print(\"Conditional Probabilty of 30 < Age <= 40 given the income is less than or equal to 50k is: \", p0_prob2)\n",
    "print(\"Conditional Probabilty of 40 < Age <= 50 given the income is less than or equal to 50k is: \", p0_prob3)\n",
    "print(\"Conditional Probabilty of Age > 50 given the income is less than or equal to 50k is: \", p0_prob4) "
   ]
  },
  {
   "cell_type": "code",
   "execution_count": 51,
   "id": "f49af052",
   "metadata": {},
   "outputs": [
    {
     "name": "stdout",
     "output_type": "stream",
     "text": [
      "0.08686788978759781 \n",
      "0.3104491352666535 \n",
      "0.2555402117445913 \n",
      "0.17932531071217203 \n",
      "0.16781745248898533 \n"
     ]
    }
   ],
   "source": [
    "for i in range(5):\n",
    "    print(f\"{globals()['p0_prob' + str(i)]} \")"
   ]
  },
  {
   "cell_type": "code",
   "execution_count": 52,
   "id": "b9cf54e3",
   "metadata": {},
   "outputs": [
    {
     "name": "stdout",
     "output_type": "stream",
     "text": [
      "a1 = 10\n",
      "a2 = 20\n",
      "a3 = 30\n",
      "a1 = 10\n",
      "a2 = 20\n",
      "a3 = 30\n",
      "a1 = 10\n",
      "a2 = 20\n",
      "a3 = 30\n"
     ]
    }
   ],
   "source": [
    "# Define the variables with some values\n",
    "a1 = 10\n",
    "a2 = 20\n",
    "a3 = 30\n",
    "\n",
    "# Using f-strings\n",
    "for i in range(1, 4):\n",
    "    print(f\"a{i} = {globals()['a'+str(i)]}\")\n",
    "\n",
    "# Using format() method\n",
    "for i in range(1, 4):\n",
    "    print(\"a{} = {}\".format(i, globals()['a'+str(i)]))\n",
    "\n",
    "# Using %-formatting\n",
    "for i in range(1, 4):\n",
    "    print(\"a%d = %d\" % (i, globals()['a'+str(i)]))\n"
   ]
  },
  {
   "cell_type": "code",
   "execution_count": 53,
   "id": "d8f6b77a",
   "metadata": {},
   "outputs": [
    {
     "name": "stdout",
     "output_type": "stream",
     "text": [
      "Conditional Probabilty of Workclass = Private given the income is greater than 50k is:  0.6446710657868426\n",
      "Conditional Probabilty of Workclass = Self-emp-not-inc given the income is greater than 50k is:  0.09538092381523695\n",
      "Conditional Probabilty of Workclass = Self-emp-inc given the income is greater than 50k is:  0.07938412317536493\n",
      "Conditional Probabilty of Workclass = Federal-gov given the income is greater than 50k is:  0.046990601879624075\n",
      "Conditional Probabilty of Workclass = Local-gov given the income is greater than 50k is:  0.08658268346330734\n",
      "Conditional Probabilty of Workclass = State-gov given the income is greater than 50k is:  0.046990601879624075\n",
      "Conditional Probabilty of Workclass = Without-pay given the income is greater than 50k is:  0.0\n",
      "Conditional Probabilty of Workclass = Never-worked given the income is greater than 50k is:  0.0\n"
     ]
    }
   ],
   "source": [
    "vari = [0,0,0,0,0,0,0,0]\n",
    "\n",
    "for i in range(len(rich)):\n",
    "    if(rich.iloc[i,1] == 'Private'):\n",
    "        vari[0] = vari[0] + 1\n",
    "    elif(rich.iloc[i,1] == 'Self-emp-not-inc'):\n",
    "        vari[1] = vari[1] + 1\n",
    "    elif(rich.iloc[i,1] == 'Self-emp-inc'):\n",
    "        vari[2] = vari[2] + 1\n",
    "    elif(rich.iloc[i,1] == 'Federal-gov'):\n",
    "        vari[3] = vari[3] + 1\n",
    "    elif(rich.iloc[i,1] == 'Local-gov'):\n",
    "        vari[4] = vari[4] + 1\n",
    "    elif(rich.iloc[i,1] == 'State-gov'):\n",
    "        vari[5] = vari[5] + 1\n",
    "    elif(rich.iloc[i,1] == 'Without-pay'):\n",
    "        vari[6] = vari[6] + 1\n",
    "    elif(rich.iloc[i,1] == 'Never-worked'):\n",
    "        vari[7] = vari[7] + 1\n",
    "\n",
    "x = 0\n",
    "for i in range(len(vari)):\n",
    "    x = x + vari[i]\n",
    "\n",
    "r1_prob0 = vari[0]/x\n",
    "r1_prob1 = vari[1]/x\n",
    "r1_prob2 = vari[2]/x\n",
    "r1_prob3 = vari[3]/x\n",
    "r1_prob4 = vari[4]/x\n",
    "r1_prob5 = vari[5]/x\n",
    "r1_prob6 = vari[6]/x\n",
    "r1_prob7 = vari[7]/x\n",
    "\n",
    "print(\"Conditional Probabilty of Workclass = Private given the income is greater than 50k is: \", r1_prob0)\n",
    "print(\"Conditional Probabilty of Workclass = Self-emp-not-inc given the income is greater than 50k is: \", r1_prob1)\n",
    "print(\"Conditional Probabilty of Workclass = Self-emp-inc given the income is greater than 50k is: \", r1_prob2)\n",
    "print(\"Conditional Probabilty of Workclass = Federal-gov given the income is greater than 50k is: \", r1_prob3)\n",
    "print(\"Conditional Probabilty of Workclass = Local-gov given the income is greater than 50k is: \", r1_prob4)  \n",
    "print(\"Conditional Probabilty of Workclass = State-gov given the income is greater than 50k is: \", r1_prob5)\n",
    "print(\"Conditional Probabilty of Workclass = Without-pay given the income is greater than 50k is: \", r1_prob6)\n",
    "print(\"Conditional Probabilty of Workclass = Never-worked given the income is greater than 50k is: \", r1_prob7)"
   ]
  },
  {
   "cell_type": "code",
   "execution_count": 54,
   "id": "2a4eb44f",
   "metadata": {},
   "outputs": [
    {
     "name": "stdout",
     "output_type": "stream",
     "text": [
      "Conditional Probabilty of Workclass = Private given the income is less than or equal to 50k is:  0.7650424146774512\n",
      "Conditional Probabilty of Workclass = Self-emp-not-inc given the income is less than or equal to 50k is:  0.07877950943644374\n",
      "Conditional Probabilty of Workclass = Self-emp-inc given the income is less than or equal to 50k is:  0.020319589662655357\n",
      "Conditional Probabilty of Workclass = Federal-gov given the income is less than or equal to 50k is:  0.026172157559018874\n",
      "Conditional Probabilty of Workclass = Local-gov given the income is less than or equal to 50k is:  0.06582494903662787\n",
      "Conditional Probabilty of Workclass = State-gov given the income is less than or equal to 50k is:  0.043335306109028734\n",
      "Conditional Probabilty of Workclass = Without-pay given the income is less than or equal to 50k is:  0.0005260735187742487\n",
      "Conditional Probabilty of Workclass = Never-worked given the income is less than or equal to 50k is:  0.0\n"
     ]
    }
   ],
   "source": [
    "job_counts = poor.iloc[:, 1].value_counts()\n",
    "job = job_counts.tolist()\n",
    "job_names_list = job_counts.index.tolist()\n",
    "\n",
    "x = 0\n",
    "for i in range(len(job)):\n",
    "    x = x + job[i]\n",
    "\n",
    "p1_prob0 = job[0]/x\n",
    "p1_prob1 = job[1]/x\n",
    "p1_prob2 = job[5]/x\n",
    "p1_prob3 = job[4]/x\n",
    "p1_prob4 = job[2]/x\n",
    "p1_prob5 = job[3]/x\n",
    "p1_prob6 = job[6]/x\n",
    "p1_prob7 = 0.0/x\n",
    "\n",
    "print(\"Conditional Probabilty of Workclass = Private given the income is less than or equal to 50k is: \", p1_prob0)\n",
    "print(\"Conditional Probabilty of Workclass = Self-emp-not-inc given the income is less than or equal to 50k is: \", p1_prob1)\n",
    "print(\"Conditional Probabilty of Workclass = Self-emp-inc given the income is less than or equal to 50k is: \", p1_prob2)\n",
    "print(\"Conditional Probabilty of Workclass = Federal-gov given the income is less than or equal to 50k is: \", p1_prob3)\n",
    "print(\"Conditional Probabilty of Workclass = Local-gov given the income is less than or equal to 50k is: \", p1_prob4)  \n",
    "print(\"Conditional Probabilty of Workclass = State-gov given the income is less than or equal to 50k is: \", p1_prob5)\n",
    "print(\"Conditional Probabilty of Workclass = Without-pay given the income is less than or equal to 50k is: \", p1_prob6)\n",
    "print(\"Conditional Probabilty of Workclass = Never-worked given the income is less than or equal to 50k is: \", p1_prob7)"
   ]
  },
  {
   "cell_type": "code",
   "execution_count": 55,
   "id": "a5485fee",
   "metadata": {},
   "outputs": [
    {
     "name": "stdout",
     "output_type": "stream",
     "text": [
      "Conditional Probabilty of Education = Bachelors given the income is greater than 50k is:  0.2881423715256949\n",
      "Conditional Probabilty of Education = Some-college given the income is greater than 50k is:  0.17476504699060189\n",
      "Conditional Probabilty of Education = 11th given the income is greater than 50k is:  0.007198560287942412\n",
      "Conditional Probabilty of Education = HS-grad given the income is greater than 50k is:  0.21595680863827235\n",
      "Conditional Probabilty of Education = Prof-school given the income is greater than 50k is:  0.05398920215956809\n",
      "Conditional Probabilty of Education = Assoc-acdm given the income is greater than 50k is:  0.03459308138372325\n",
      "Conditional Probabilty of Education = Assoc-voc given the income is greater than 50k is:  0.04399120175964807\n",
      "Conditional Probabilty of Education = 9th given the income is greater than 50k is:  0.0033993201359728054\n",
      "Conditional Probabilty of Education = 7th-8th given the income is greater than 50k is:  0.0057988402319536095\n",
      "Conditional Probabilty of Education = 12th given the income is greater than 50k is:  0.003199360127974405\n",
      "Conditional Probabilty of Education = Masters given the income is greater than 50k is:  0.12297540491901619\n",
      "Conditional Probabilty of Education = 1st-4th given the income is greater than 50k is:  0.0005998800239952009\n",
      "Conditional Probabilty of Education = 10th given the income is greater than 50k is:  0.008398320335932814\n",
      "Conditional Probabilty of Education = Doctorate given the income is greater than 50k is:  0.03559288142371526\n",
      "Conditional Probabilty of Education = 5th-6th given the income is greater than 50k is:  0.0013997200559888023\n",
      "Conditional Probabilty of Education = Preschool given the income is greater than 50k is:  0.0\n"
     ]
    }
   ],
   "source": [
    "edu = [0,0,0,0,0,0,0,0,0,0,0,0,0,0,0,0]\n",
    "\n",
    "for i in range(len(rich)):\n",
    "    if(rich.iloc[i,3] == 'Bachelors'):\n",
    "        edu[0] = edu[0] + 1\n",
    "    elif(rich.iloc[i,3] == 'Some-college'):\n",
    "        edu[1] = edu[1] + 1\n",
    "    elif(rich.iloc[i,3] == '11th'):\n",
    "        edu[2] = edu[2] + 1\n",
    "    elif(rich.iloc[i,3] == 'HS-grad'):\n",
    "        edu[3] = edu[3] + 1\n",
    "    elif(rich.iloc[i,3] == 'Prof-school'):\n",
    "        edu[4] = edu[4] + 1\n",
    "    elif(rich.iloc[i,3] == 'Assoc-acdm'):\n",
    "        edu[5] = edu[5] + 1\n",
    "    elif(rich.iloc[i,3] == 'Assoc-voc'):\n",
    "        edu[6] = edu[6] + 1\n",
    "    elif(rich.iloc[i,3] == '9th'):\n",
    "        edu[7] = edu[7] + 1\n",
    "    elif(rich.iloc[i,3] == '7th-8th'):\n",
    "        edu[8] = edu[8] + 1\n",
    "    elif(rich.iloc[i,3] == '12th'):\n",
    "        edu[9] = edu[9] + 1\n",
    "    elif(rich.iloc[i,3] == 'Masters'):\n",
    "        edu[10] = edu[10] + 1\n",
    "    elif(rich.iloc[i,3] == '1st-4th'):\n",
    "        edu[11] = edu[11] + 1\n",
    "    elif(rich.iloc[i,3] == '10th'):\n",
    "        edu[12] = edu[12] + 1\n",
    "    elif(rich.iloc[i,3] == 'Doctorate'):\n",
    "        edu[13] = edu[13] + 1\n",
    "    elif(rich.iloc[i,3] == '5th-6th'):\n",
    "        edu[14] = edu[14] + 1\n",
    "    elif(rich.iloc[i,3] == 'Preschool'):\n",
    "        edu[15] = edu[15] + 1\n",
    "\n",
    "x = 0\n",
    "for i in range(len(edu)):\n",
    "    x = x + edu[i]\n",
    "\n",
    "r3_prob0 = edu[0]/x\n",
    "r3_prob1 = edu[1]/x\n",
    "r3_prob2 = edu[2]/x\n",
    "r3_prob3 = edu[3]/x\n",
    "r3_prob4 = edu[4]/x\n",
    "r3_prob5 = edu[5]/x\n",
    "r3_prob6 = edu[6]/x\n",
    "r3_prob7 = edu[7]/x\n",
    "r3_prob8 = edu[8]/x\n",
    "r3_prob9 = edu[9]/x\n",
    "r3_prob10 = edu[10]/x\n",
    "r3_prob11 = edu[11]/x\n",
    "r3_prob12 = edu[12]/x\n",
    "r3_prob13 = edu[13]/x\n",
    "r3_prob14 = edu[14]/x\n",
    "r3_prob15 = edu[15]/x\n",
    "\n",
    "print(\"Conditional Probabilty of Education = Bachelors given the income is greater than 50k is: \", r3_prob0)\n",
    "print(\"Conditional Probabilty of Education = Some-college given the income is greater than 50k is: \", r3_prob1)\n",
    "print(\"Conditional Probabilty of Education = 11th given the income is greater than 50k is: \", r3_prob2)\n",
    "print(\"Conditional Probabilty of Education = HS-grad given the income is greater than 50k is: \", r3_prob3)\n",
    "print(\"Conditional Probabilty of Education = Prof-school given the income is greater than 50k is: \", r3_prob4)\n",
    "print(\"Conditional Probabilty of Education = Assoc-acdm given the income is greater than 50k is: \", r3_prob5)\n",
    "print(\"Conditional Probabilty of Education = Assoc-voc given the income is greater than 50k is: \", r3_prob6)\n",
    "print(\"Conditional Probabilty of Education = 9th given the income is greater than 50k is: \", r3_prob7)\n",
    "print(\"Conditional Probabilty of Education = 7th-8th given the income is greater than 50k is: \", r3_prob8)\n",
    "print(\"Conditional Probabilty of Education = 12th given the income is greater than 50k is: \", r3_prob9)\n",
    "print(\"Conditional Probabilty of Education = Masters given the income is greater than 50k is: \", r3_prob10)\n",
    "print(\"Conditional Probabilty of Education = 1st-4th given the income is greater than 50k is: \", r3_prob11)\n",
    "print(\"Conditional Probabilty of Education = 10th given the income is greater than 50k is: \", r3_prob12)\n",
    "print(\"Conditional Probabilty of Education = Doctorate given the income is greater than 50k is: \", r3_prob13)\n",
    "print(\"Conditional Probabilty of Education = 5th-6th given the income is greater than 50k is: \", r3_prob14)\n",
    "print(\"Conditional Probabilty of Education = Preschool given the income is greater than 50k is: \", r3_prob15)\n",
    "\n"
   ]
  },
  {
   "cell_type": "code",
   "execution_count": 56,
   "id": "58bc7906",
   "metadata": {},
   "outputs": [
    {
     "name": "stdout",
     "output_type": "stream",
     "text": [
      "Conditional Probabilty of Education = Bachelors given the income is less than or equal to 50k is:  0.12704675478398106\n",
      "Conditional Probabilty of Education = Some-college given the income is less than or equal to 50k is:  0.23607549154994412\n",
      "Conditional Probabilty of Education = 11th given the income is less than or equal to 50k is:  0.044913526665351484\n",
      "Conditional Probabilty of Education = HS-grad given the income is less than or equal to 50k is:  0.36522654040902214\n",
      "Conditional Probabilty of Education = Prof-school given the income is less than or equal to 50k is:  0.006247123035444203\n",
      "Conditional Probabilty of Education = Assoc-acdm given the income is less than or equal to 50k is:  0.03386598277109226\n",
      "Conditional Probabilty of Education = Assoc-voc given the income is less than or equal to 50k is:  0.04340106529887552\n",
      "Conditional Probabilty of Education = 9th given the income is less than or equal to 50k is:  0.019661997764187544\n",
      "Conditional Probabilty of Education = 7th-8th given the income is less than or equal to 50k is:  0.020779903991582825\n",
      "Conditional Probabilty of Education = 12th given the income is less than or equal to 50k is:  0.015387650424146774\n",
      "Conditional Probabilty of Education = Masters given the income is less than or equal to 50k is:  0.029723153810745053\n",
      "Conditional Probabilty of Education = 1st-4th given the income is less than or equal to 50k is:  0.005918327086210298\n",
      "Conditional Probabilty of Education = 10th given the income is less than or equal to 50k is:  0.034655093049253634\n",
      "Conditional Probabilty of Education = Doctorate given the income is less than or equal to 50k is:  0.003748273821266522\n",
      "Conditional Probabilty of Education = 5th-6th given the income is less than or equal to 50k is:  0.011639376602880253\n",
      "Conditional Probabilty of Education = Preschool given the income is less than or equal to 50k is:  0.0017097389360163082\n"
     ]
    }
   ],
   "source": [
    "edu_counts = poor.iloc[:,3].value_counts()\n",
    "education = edu_counts.tolist()\n",
    "edu_names_list = edu_counts.index.tolist()\n",
    "\n",
    "x = 0\n",
    "for i in range(len(education)):\n",
    "    x = x + education[i]\n",
    "\n",
    "p3_prob0 = education[2]/x\n",
    "p3_prob1 = education[1]/x\n",
    "p3_prob2 = education[3]/x\n",
    "p3_prob3 = education[0]/x\n",
    "p3_prob4 = education[12]/x\n",
    "p3_prob5 = education[6]/x\n",
    "p3_prob6 = education[4]/x\n",
    "p3_prob7 = education[9]/x\n",
    "p3_prob8 = education[8]/x\n",
    "p3_prob9 = education[10]/x\n",
    "p3_prob10 = education[7]/x\n",
    "p3_prob11 = education[13]/x\n",
    "p3_prob12 = education[5]/x\n",
    "p3_prob13 = education[14]/x\n",
    "p3_prob14 = education[11]/x\n",
    "p3_prob15 = education[15]/x\n",
    "\n",
    "print(\"Conditional Probabilty of Education = Bachelors given the income is less than or equal to 50k is: \", p3_prob0)\n",
    "print(\"Conditional Probabilty of Education = Some-college given the income is less than or equal to 50k is: \", p3_prob1)\n",
    "print(\"Conditional Probabilty of Education = 11th given the income is less than or equal to 50k is: \", p3_prob2)\n",
    "print(\"Conditional Probabilty of Education = HS-grad given the income is less than or equal to 50k is: \", p3_prob3)\n",
    "print(\"Conditional Probabilty of Education = Prof-school given the income is less than or equal to 50k is: \", p3_prob4)\n",
    "print(\"Conditional Probabilty of Education = Assoc-acdm given the income is less than or equal to 50k is: \", p3_prob5)\n",
    "print(\"Conditional Probabilty of Education = Assoc-voc given the income is less than or equal to 50k is: \", p3_prob6)\n",
    "print(\"Conditional Probabilty of Education = 9th given the income is less than or equal to 50k is: \", p3_prob7)\n",
    "print(\"Conditional Probabilty of Education = 7th-8th given the income is less than or equal to 50k is: \", p3_prob8)\n",
    "print(\"Conditional Probabilty of Education = 12th given the income is less than or equal to 50k is: \", p3_prob9)\n",
    "print(\"Conditional Probabilty of Education = Masters given the income is less than or equal to 50k is: \", p3_prob10)\n",
    "print(\"Conditional Probabilty of Education = 1st-4th given the income is less than or equal to 50k is: \", p3_prob11)\n",
    "print(\"Conditional Probabilty of Education = 10th given the income is less than or equal to 50k is: \", p3_prob12)\n",
    "print(\"Conditional Probabilty of Education = Doctorate given the income is less than or equal to 50k is: \", p3_prob13)\n",
    "print(\"Conditional Probabilty of Education = 5th-6th given the income is less than or equal to 50k is: \", p3_prob14)\n",
    "print(\"Conditional Probabilty of Education = Preschool given the income is less than or equal to 50k is: \", p3_prob15)"
   ]
  },
  {
   "cell_type": "code",
   "execution_count": 57,
   "id": "00ecfb73",
   "metadata": {},
   "outputs": [
    {
     "name": "stdout",
     "output_type": "stream",
     "text": [
      "Conditional Probabilty of edu <= 4 given the income is greater than 50k is:  0.007798440311937612\n",
      "Conditional Probabilty of 4 < edu <= 8 given the income is greater than 50k is:  0.022195560887822437\n",
      "Conditional Probabilty of 8 < edu <= 12 given the income is greater than 50k is:  0.46930613877224553\n",
      "Conditional Probabilty of edu > 12 given the income is greater than 50k is:  0.5006998600279944\n"
     ]
    }
   ],
   "source": [
    "e0, e1, e2, e3 = 0,0,0,0\n",
    "for i in range(len(rich)):\n",
    "    if(rich.iloc[i,4] <= 4):\n",
    "        e0 = e0 + 1\n",
    "    elif(rich.iloc[i,4] <= 8 and rich.iloc[i,4] > 4):\n",
    "        e1 = e1 + 1\n",
    "    elif(rich.iloc[i,4] <= 12 and rich.iloc[i,4] > 8):\n",
    "        e2 = e2 + 1\n",
    "    elif(rich.iloc[i,4] > 12):\n",
    "        e3 = e3 + 1\n",
    "\n",
    "sum = e0 + e1 + e2 + e3 \n",
    "r4_prob0 = e0 / sum\n",
    "r4_prob1 = e1 / sum\n",
    "r4_prob2 = e2 / sum\n",
    "r4_prob3 = e3 / sum\n",
    "\n",
    "\n",
    "print(\"Conditional Probabilty of edu <= 4 given the income is greater than 50k is: \", r4_prob0)\n",
    "print(\"Conditional Probabilty of 4 < edu <= 8 given the income is greater than 50k is: \", r4_prob1)\n",
    "print(\"Conditional Probabilty of 8 < edu <= 12 given the income is greater than 50k is: \", r4_prob2)\n",
    "print(\"Conditional Probabilty of edu > 12 given the income is greater than 50k is: \", r4_prob3)"
   ]
  },
  {
   "cell_type": "code",
   "execution_count": 58,
   "id": "96183800",
   "metadata": {},
   "outputs": [
    {
     "name": "stdout",
     "output_type": "stream",
     "text": [
      "Conditional Probabilty of edu <= 4 given the income is less than or equal to 50k is:  0.04037614256592359\n",
      "Conditional Probabilty of 4 < edu <= 8 given the income is less than or equal to 50k is:  0.11461826790293944\n",
      "Conditional Probabilty of 8 < edu <= 12 given the income is less than or equal to 50k is:  0.678569080028934\n",
      "Conditional Probabilty of edu > 12 given the income is less than or equal to 50k is:  0.16643650950220293\n"
     ]
    }
   ],
   "source": [
    "e0, e1, e2, e3 = 0,0,0,0\n",
    "for i in range(len(poor)):\n",
    "    if(poor.iloc[i,4] <= 4):\n",
    "        e0 = e0 + 1\n",
    "    elif(poor.iloc[i,4] <= 8 and poor.iloc[i,4] > 4):\n",
    "        e1 = e1 + 1\n",
    "    elif(poor.iloc[i,4] <= 12 and poor.iloc[i,4] > 8):\n",
    "        e2 = e2 + 1\n",
    "    elif(poor.iloc[i,4] > 12):\n",
    "        e3 = e3 + 1\n",
    "\n",
    "sum = e0 + e1 + e2 + e3 \n",
    "p4_prob0 = e0 / sum\n",
    "p4_prob1 = e1 / sum\n",
    "p4_prob2 = e2 / sum\n",
    "p4_prob3 = e3 / sum\n",
    "\n",
    "\n",
    "print(\"Conditional Probabilty of edu <= 4 given the income is less than or equal to 50k is: \", p4_prob0)\n",
    "print(\"Conditional Probabilty of 4 < edu <= 8 given the income is less than or equal to 50k is: \", p4_prob1)\n",
    "print(\"Conditional Probabilty of 8 < edu <= 12 given the income is less than or equal to 50k is: \", p4_prob2)\n",
    "print(\"Conditional Probabilty of edu > 12 given the income is less than or equal to 50k is: \", p4_prob3)"
   ]
  },
  {
   "cell_type": "code",
   "execution_count": 59,
   "id": "ea12984d",
   "metadata": {},
   "outputs": [
    {
     "name": "stdout",
     "output_type": "stream",
     "text": [
      "Conditional Probabilty of Marital-Status = Married-civ-spouse given the income is greater than 50k is:  0.848630273945211\n",
      "Conditional Probabilty of Marital-Status = Divorced given the income is greater than 50k is:  0.059988002399520096\n",
      "Conditional Probabilty of Marital-Status = Never-married given the income is greater than 50k is:  0.0639872025594881\n",
      "Conditional Probabilty of Marital-Status = Separated given the income is greater than 50k is:  0.009598080383923215\n",
      "Conditional Probabilty of Marital-Status = Widowed given the income is greater than 50k is:  0.01219756048790242\n",
      "Conditional Probabilty of Marital-Status = Married-spouse-absent given the income is greater than 50k is:  0.004199160167966407\n",
      "Conditional Probabilty of Marital-Status = Married-AF-spouse given the income is greater than 50k is:  0.0013997200559888023\n"
     ]
    }
   ],
   "source": [
    "rel = [0,0,0,0,0,0,0]\n",
    "\n",
    "for i in range(len(rich)):\n",
    "    if(rich.iloc[i,5] == 'Married-civ-spouse'):\n",
    "        rel[0] = rel[0] + 1\n",
    "    elif(rich.iloc[i,5] == 'Divorced'):\n",
    "        rel[1] = rel[1] + 1\n",
    "    elif(rich.iloc[i,5] == 'Never-married'):\n",
    "        rel[2] = rel[2] + 1\n",
    "    elif(rich.iloc[i,5] == 'Separated'):\n",
    "        rel[3] = rel[3] + 1\n",
    "    elif(rich.iloc[i,5] == 'Widowed'):\n",
    "        rel[4] = rel[4] + 1\n",
    "    elif(rich.iloc[i,5] == 'Married-spouse-absent'):\n",
    "        rel[5] = rel[5] + 1\n",
    "    elif(rich.iloc[i,5] == 'Married-AF-spouse'):\n",
    "        rel[6] = rel[6] + 1\n",
    "\n",
    "x = 0\n",
    "for i in range(len(rel)):\n",
    "    x = x + rel[i]\n",
    "\n",
    "r5_prob0 = rel[0]/x\n",
    "r5_prob1 = rel[1]/x\n",
    "r5_prob2 = rel[2]/x\n",
    "r5_prob3 = rel[3]/x\n",
    "r5_prob4 = rel[4]/x\n",
    "r5_prob5 = rel[5]/x\n",
    "r5_prob6 = rel[6]/x\n",
    "\n",
    "\n",
    "print(\"Conditional Probabilty of Marital-Status = Married-civ-spouse given the income is greater than 50k is: \", r5_prob0)\n",
    "print(\"Conditional Probabilty of Marital-Status = Divorced given the income is greater than 50k is: \", r5_prob1)\n",
    "print(\"Conditional Probabilty of Marital-Status = Never-married given the income is greater than 50k is: \", r5_prob2)\n",
    "print(\"Conditional Probabilty of Marital-Status = Separated given the income is greater than 50k is: \", r5_prob3)\n",
    "print(\"Conditional Probabilty of Marital-Status = Widowed given the income is greater than 50k is: \", r5_prob4)  \n",
    "print(\"Conditional Probabilty of Marital-Status = Married-spouse-absent given the income is greater than 50k is: \", r5_prob5)\n",
    "print(\"Conditional Probabilty of Marital-Status = Married-AF-spouse given the income is greater than 50k is: \", r5_prob6)"
   ]
  },
  {
   "cell_type": "code",
   "execution_count": 60,
   "id": "6ca7cf61",
   "metadata": {},
   "outputs": [
    {
     "name": "stdout",
     "output_type": "stream",
     "text": [
      "Conditional Probabilty of Marital-Status = Married-civ-spouse given the income is less than or equal to 50k is:  0.34122443611494707\n",
      "Conditional Probabilty of Marital-Status = Divorced given the income is less than or equal to 50k is:  0.16742289734990465\n",
      "Conditional Probabilty of Marital-Status = Never-married given the income is less than or equal to 50k is:  0.4052738870257118\n",
      "Conditional Probabilty of Marital-Status = Separated given the income is less than or equal to 50k is:  0.03820608930097981\n",
      "Conditional Probabilty of Marital-Status = Widowed given the income is less than or equal to 50k is:  0.03287959492339054\n",
      "Conditional Probabilty of Marital-Status = Married-spouse-absent given the income is less than or equal to 50k is:  0.014401262576445058\n",
      "Conditional Probabilty of Marital-Status = Married-AF-spouse given the income is less than or equal to 50k is:  0.0005918327086210298\n"
     ]
    }
   ],
   "source": [
    "marriage_counts = poor.iloc[:,5].value_counts()\n",
    "marr = marriage_counts.tolist()\n",
    "marriage_names_list = marriage_counts.index.tolist()\n",
    "\n",
    "x = 0\n",
    "for i in range(len(marr)):\n",
    "    x = x + marr[i]\n",
    "\n",
    "p5_prob0 = marr[1]/x\n",
    "p5_prob1 = marr[2]/x\n",
    "p5_prob2 = marr[0]/x\n",
    "p5_prob3 = marr[3]/x\n",
    "p5_prob4 = marr[4]/x\n",
    "p5_prob5 = marr[5]/x\n",
    "p5_prob6 = marr[6]/x\n",
    "\n",
    "print(\"Conditional Probabilty of Marital-Status = Married-civ-spouse given the income is less than or equal to 50k is: \", p5_prob0)\n",
    "print(\"Conditional Probabilty of Marital-Status = Divorced given the income is less than or equal to 50k is: \", p5_prob1)\n",
    "print(\"Conditional Probabilty of Marital-Status = Never-married given the income is less than or equal to 50k is: \", p5_prob2)\n",
    "print(\"Conditional Probabilty of Marital-Status = Separated given the income is less than or equal to 50k is: \", p5_prob3)\n",
    "print(\"Conditional Probabilty of Marital-Status = Widowed given the income is less than or equal to 50k is: \", p5_prob4)\n",
    "print(\"Conditional Probabilty of Marital-Status = Married-spouse-absent given the income is less than or equal to 50k is: \", p5_prob5)\n",
    "print(\"Conditional Probabilty of Marital-Status = Married-AF-spouse given the income is less than or equal to 50k is: \", p5_prob6)"
   ]
  },
  {
   "cell_type": "code",
   "execution_count": 61,
   "id": "ef0c6b47",
   "metadata": {},
   "outputs": [],
   "source": [
    "occ = [0,0,0,0,0,0,0,0,0,0,0,0,0,0]\n",
    "\n",
    "for i in range(len(rich)):\n",
    "    if(rich.iloc[i,6] == 'Tech-support'):\n",
    "        occ[0] = occ[0] + 1\n",
    "    elif(rich.iloc[i,6] == 'Craft-repair'):\n",
    "        occ[1] = occ[1] + 1\n",
    "    elif(rich.iloc[i,6] == 'Other-service'):\n",
    "        occ[2] = occ[2] + 1\n",
    "    elif(rich.iloc[i,6] == 'Sales'):\n",
    "        occ[3] = occ[3] + 1\n",
    "    elif(rich.iloc[i,6] == 'Exec-managerial'):\n",
    "        occ[4] = occ[4] + 1\n",
    "    elif(rich.iloc[i,6] == 'Prof-specialty'):\n",
    "        occ[5] = occ[5] + 1\n",
    "    elif(rich.iloc[i,6] == 'Handlers-cleaners'):\n",
    "        occ[6] = occ[6] + 1\n",
    "    elif(rich.iloc[i,6] == 'Machine-op-inspct'):\n",
    "        occ[7] = occ[7] + 1\n",
    "    elif(rich.iloc[i,6] == 'Adm-clerical'):\n",
    "        occ[8] = occ[8] + 1\n",
    "    elif(rich.iloc[i,6] == 'Farming-fishing'):\n",
    "        occ[9] = occ[9] + 1\n",
    "    elif(rich.iloc[i,6] == 'Transport-moving'):\n",
    "        occ[10] = occ[10] + 1\n",
    "    elif(rich.iloc[i,6] == 'Priv-house-serv'):\n",
    "        occ[11] = occ[11] + 1\n",
    "    elif(rich.iloc[i,6] == 'Protective-serv'):\n",
    "        occ[12] = occ[12] + 1\n",
    "    elif(rich.iloc[i,6] == 'Armed-Forces'):\n",
    "        occ[13] = occ[13] + 1\n",
    "\n",
    "x = 0\n",
    "for i in range(len(occ)):\n",
    "    x = x + occ[i]\n",
    "\n",
    "r6_prob0 = occ[0]/x\n",
    "r6_prob1 = occ[1]/x\n",
    "r6_prob2 = occ[2]/x\n",
    "r6_prob3 = occ[3]/x\n",
    "r6_prob4 = occ[4]/x\n",
    "r6_prob5 = occ[5]/x\n",
    "r6_prob6 = occ[6]/x\n",
    "r6_prob7 = occ[7]/x\n",
    "r6_prob8 = occ[8]/x\n",
    "r6_prob9 = occ[9]/x\n",
    "r6_prob10 = occ[10]/x\n",
    "r6_prob11 = occ[11]/x\n",
    "r6_prob12 = occ[12]/x\n",
    "r6_prob13 = occ[13]/x\n",
    "\n"
   ]
  },
  {
   "cell_type": "code",
   "execution_count": 62,
   "id": "7e59d481",
   "metadata": {},
   "outputs": [],
   "source": [
    "occ_counts = poor.iloc[:,6].value_counts()\n",
    "occu = occ_counts.tolist()\n",
    "occ_names_list = occ_counts.index.tolist()\n",
    "\n",
    "x = 0\n",
    "for i in range(len(occu)):\n",
    "    x = x + occu[i]\n",
    "\n",
    "p6_prob0 = occu[10]/x\n",
    "p6_prob1 = occu[1]/x\n",
    "p6_prob2 = occu[2]/x\n",
    "p6_prob3 = occu[3]/x\n",
    "p6_prob4 = occu[5]/x\n",
    "p6_prob5 = occu[4]/x\n",
    "p6_prob6 = occu[8]/x\n",
    "p6_prob7 = occu[6]/x\n",
    "p6_prob8 = occu[0]/x\n",
    "p6_prob9 = occu[9]/x\n",
    "p6_prob10 = occu[7]/x\n",
    "p6_prob11 = occu[12]/x\n",
    "p6_prob12 = occu[11]/x\n",
    "p6_prob13 = occu[13]/x"
   ]
  },
  {
   "cell_type": "code",
   "execution_count": 63,
   "id": "4abd1343",
   "metadata": {},
   "outputs": [],
   "source": [
    "rel = [0,0,0,0,0,0]\n",
    "\n",
    "for i in range(len(rich)):\n",
    "    if(rich.iloc[i,7] == 'Wife'):\n",
    "        rel[0] = rel[0] + 1\n",
    "    elif(rich.iloc[i,7] == 'Own-child'):\n",
    "        rel[1] = rel[1] + 1\n",
    "    elif(rich.iloc[i,7] == 'Husband'):\n",
    "        rel[2] = rel[2] + 1\n",
    "    elif(rich.iloc[i,7] == 'Not-in-family'):\n",
    "        rel[3] = rel[3] + 1\n",
    "    elif(rich.iloc[i,7] == 'Other-relative'):\n",
    "        rel[4] = rel[4] + 1\n",
    "    elif(rich.iloc[i,7] == 'Unmarried'):\n",
    "        rel[5] = rel[5] + 1\n",
    "\n",
    "x = 0\n",
    "for i in range(len(rel)):\n",
    "    x = x + rel[i]\n",
    "\n",
    "r7_prob0 = rel[0]/x\n",
    "r7_prob1 = rel[1]/x\n",
    "r7_prob2 = rel[2]/x\n",
    "r7_prob3 = rel[3]/x\n",
    "r7_prob4 = rel[4]/x\n",
    "r7_prob5 = rel[5]/x"
   ]
  },
  {
   "cell_type": "code",
   "execution_count": 64,
   "id": "1e643cf9",
   "metadata": {},
   "outputs": [],
   "source": [
    "rel_counts = poor.iloc[:,7].value_counts()\n",
    "relations = rel_counts.tolist()\n",
    "rel_names_list = rel_counts.index.tolist()\n",
    "\n",
    "x = 0\n",
    "for i in range(len(relations)):\n",
    "    x = x + relations[i]\n",
    "\n",
    "p7_prob0 = relations[5]/x\n",
    "p7_prob1 = relations[2]/x\n",
    "p7_prob2 = relations[1]/x\n",
    "p7_prob3 = relations[0]/x\n",
    "p7_prob4 = relations[4]/x\n",
    "p7_prob5 = relations[3]/x"
   ]
  },
  {
   "cell_type": "code",
   "execution_count": 65,
   "id": "45ac170c",
   "metadata": {},
   "outputs": [
    {
     "data": {
      "text/plain": [
       "(0.9110177964407119,\n",
       " 0.033393321335732855,\n",
       " 0.004799040191961607,\n",
       " 0.0013997200559888023,\n",
       " 0.04939012197560488)"
      ]
     },
     "execution_count": 65,
     "metadata": {},
     "output_type": "execute_result"
    }
   ],
   "source": [
    "race = [0,0,0,0,0]\n",
    "\n",
    "for i in range(len(rich)):\n",
    "    if(rich.iloc[i,8] == 'White'):\n",
    "        race[0] = race[0] + 1\n",
    "    elif(rich.iloc[i,8] == 'Asian-Pac-Islander'):\n",
    "        race[1] = race[1] + 1\n",
    "    elif(rich.iloc[i,8] == 'Amer-Indian-Eskimo'):\n",
    "        race[2] = race[2] + 1\n",
    "    elif(rich.iloc[i,8] == 'Other'):\n",
    "        race[3] = race[3] + 1\n",
    "    elif(rich.iloc[i,8] == 'Black'):\n",
    "        race[4] = race[4] + 1\n",
    "\n",
    "x = 0\n",
    "for i in range(len(race)):\n",
    "    x = x + race[i]\n",
    "\n",
    "r8_prob0 = race[0]/x\n",
    "r8_prob1 = race[1]/x\n",
    "r8_prob2 = race[2]/x\n",
    "r8_prob3 = race[3]/x\n",
    "r8_prob4 = race[4]/x\n",
    "\n",
    "r8_prob0, r8_prob1, r8_prob2, r8_prob3, r8_prob4"
   ]
  },
  {
   "cell_type": "code",
   "execution_count": 66,
   "id": "cba99e90",
   "metadata": {},
   "outputs": [
    {
     "data": {
      "text/plain": [
       "(0.8437561649240481,\n",
       " 0.02860524758334977,\n",
       " 0.010455711185638194,\n",
       " 0.008680213059775104,\n",
       " 0.1085026632471888)"
      ]
     },
     "execution_count": 66,
     "metadata": {},
     "output_type": "execute_result"
    }
   ],
   "source": [
    "race_counts = poor.iloc[:,8].value_counts()\n",
    "prace = race_counts.tolist()\n",
    "race_names_list = race_counts.index.tolist()\n",
    "\n",
    "x = 0\n",
    "for i in range(len(prace)):\n",
    "    x = x + prace[i]\n",
    "\n",
    "p8_prob0 = prace[0]/x\n",
    "p8_prob1 = prace[2]/x\n",
    "p8_prob2 = prace[3]/x\n",
    "p8_prob3 = prace[4]/x\n",
    "p8_prob4 = prace[1]/x\n",
    "\n",
    "p8_prob0, p8_prob1, p8_prob2, p8_prob3, p8_prob4"
   ]
  },
  {
   "cell_type": "code",
   "execution_count": 67,
   "id": "897a6053",
   "metadata": {},
   "outputs": [
    {
     "data": {
      "text/plain": [
       "(0.8510297940411917, 0.09538092381523695)"
      ]
     },
     "execution_count": 67,
     "metadata": {},
     "output_type": "execute_result"
    }
   ],
   "source": [
    "sex  = [0,0]\n",
    "\n",
    "for i in range(len(rich)):\n",
    "    if(rich.iloc[i,9] == 'Male'):\n",
    "        sex[0] = sex[0] + 1\n",
    "    elif(rich.iloc[i,9] == 'Female'):\n",
    "        sex[1] = sex[1] + 1\n",
    "\n",
    "x = 0\n",
    "for i in range(len(sex)):\n",
    "    x = x + sex[i]\n",
    "\n",
    "r9_prob0 = sex[0]/x\n",
    "r9_prob1 = sex[1]/x\n",
    "\n",
    "r9_prob0, r1_prob1"
   ]
  },
  {
   "cell_type": "code",
   "execution_count": 68,
   "id": "81c22d6d",
   "metadata": {},
   "outputs": [
    {
     "data": {
      "text/plain": [
       "(0.6166896823831131, 0.38331031761688694)"
      ]
     },
     "execution_count": 68,
     "metadata": {},
     "output_type": "execute_result"
    }
   ],
   "source": [
    "sex_counts = poor.iloc[:,9].value_counts()\n",
    "psex = sex_counts.tolist()\n",
    "sex_names_list = sex_counts.index.tolist()\n",
    "\n",
    "x = 0\n",
    "for i in range(len(psex)):\n",
    "    x = x + psex[i]\n",
    "\n",
    "p9_prob0 = psex[0]/x\n",
    "p9_prob1 = psex[1]/x\n",
    "\n",
    "p9_prob0, p9_prob1"
   ]
  },
  {
   "cell_type": "code",
   "execution_count": 69,
   "id": "cad8beeb",
   "metadata": {},
   "outputs": [
    {
     "data": {
      "text/plain": [
       "(0.7904419116176765, 0.20955808838232354)"
      ]
     },
     "execution_count": 69,
     "metadata": {},
     "output_type": "execute_result"
    }
   ],
   "source": [
    "gain  = [0,0]\n",
    "\n",
    "for i in range(len(rich)):\n",
    "    if(rich.iloc[i,10] == 0):\n",
    "        gain[0] = gain[0] + 1\n",
    "    elif(rich.iloc[i,10] != 0):\n",
    "        gain[1] = gain[1] + 1\n",
    "\n",
    "x = 0\n",
    "for i in range(len(gain)):\n",
    "    x = x + gain[i]\n",
    "\n",
    "r10_prob0 = gain[0]/x\n",
    "r10_prob1 = gain[1]/x\n",
    "\n",
    "r10_prob0, r10_prob1"
   ]
  },
  {
   "cell_type": "code",
   "execution_count": 70,
   "id": "84d85447",
   "metadata": {},
   "outputs": [
    {
     "data": {
      "text/plain": [
       "(0.9589662655356086, 0.041033734464391396)"
      ]
     },
     "execution_count": 70,
     "metadata": {},
     "output_type": "execute_result"
    }
   ],
   "source": [
    "pgain  = [0,0]\n",
    "\n",
    "for i in range(len(poor)):\n",
    "    if(poor.iloc[i,10] == 0):\n",
    "        pgain[0] = pgain[0] + 1\n",
    "    elif(poor.iloc[i,10] != 0):\n",
    "        pgain[1] = pgain[1] + 1\n",
    "\n",
    "x = 0\n",
    "for i in range(len(pgain)):\n",
    "    x = x + pgain[i]\n",
    "\n",
    "p10_prob0 = pgain[0]/x\n",
    "p10_prob1 = pgain[1]/x\n",
    "\n",
    "p10_prob0, p10_prob1"
   ]
  },
  {
   "cell_type": "code",
   "execution_count": 71,
   "id": "4611850e",
   "metadata": {},
   "outputs": [
    {
     "data": {
      "text/plain": [
       "(0.8972205558888222, 0.10277944411117776)"
      ]
     },
     "execution_count": 71,
     "metadata": {},
     "output_type": "execute_result"
    }
   ],
   "source": [
    "loss  = [0,0]\n",
    "\n",
    "for i in range(len(rich)):\n",
    "    if(rich.iloc[i,11] == 0):\n",
    "        loss[0] = loss[0] + 1\n",
    "    elif(rich.iloc[i,11] != 0):\n",
    "        loss[1] = loss[1] + 1\n",
    "\n",
    "x = 0\n",
    "for i in range(len(loss)):\n",
    "    x = x + loss[i]\n",
    "\n",
    "r11_prob0 = loss[0]/x\n",
    "r11_prob1 = loss[1]/x\n",
    "\n",
    "r11_prob0, r11_prob1"
   ]
  },
  {
   "cell_type": "code",
   "execution_count": 72,
   "id": "a575817b",
   "metadata": {},
   "outputs": [
    {
     "data": {
      "text/plain": [
       "(0.9702110869994082, 0.029788913000591832)"
      ]
     },
     "execution_count": 72,
     "metadata": {},
     "output_type": "execute_result"
    }
   ],
   "source": [
    "ploss  = [0,0]\n",
    "\n",
    "for i in range(len(poor)):\n",
    "    if(poor.iloc[i,11] == 0):\n",
    "        ploss[0] = ploss[0] + 1\n",
    "    elif(poor.iloc[i,11] != 0):\n",
    "        ploss[1] = ploss[1] + 1\n",
    "\n",
    "x = 0\n",
    "for i in range(len(ploss)):\n",
    "    x = x + ploss[i]\n",
    "\n",
    "p11_prob0 = ploss[0]/x\n",
    "p11_prob1 = ploss[1]/x\n",
    "\n",
    "p11_prob0, p11_prob1"
   ]
  },
  {
   "cell_type": "code",
   "execution_count": 73,
   "id": "0a11ef80",
   "metadata": {},
   "outputs": [
    {
     "name": "stdout",
     "output_type": "stream",
     "text": [
      "Conditional Probabilty of working hours <= 20 given the income is greater than 50k is:  0.020995800839832032\n",
      "Conditional Probabilty of 20 < working hours <= 40 given the income is greater than 50k is:  0.47950409918016396\n",
      "Conditional Probabilty of 40 < working hours <= 60 given the income is greater than 50k is:  0.44831033793241354\n",
      "Conditional Probabilty of 60 < working hours <= 80 given the income is greater than 50k is:  0.04099180163967207\n",
      "Conditional Probabilty of working hours > 80 given the income is greater than 50k is:  0.010197960407918417\n"
     ]
    }
   ],
   "source": [
    "work0, work1, work2, work3, work4 = 0,0,0,0,0\n",
    "for i in range(len(rich)):\n",
    "    if(rich.iloc[i,12] <= 20.0):\n",
    "        work0 = work0 + 1\n",
    "    elif(rich.iloc[i,12] <= 40.0 and rich.iloc[i,12] > 20):\n",
    "        work1 = work1 + 1\n",
    "    elif(rich.iloc[i,12] <= 60.0 and rich.iloc[i,12] > 40):\n",
    "        work2 = work2 + 1\n",
    "    elif(rich.iloc[i,12] <= 80.0 and rich.iloc[i,12] > 60):\n",
    "        work3 = work3 + 1\n",
    "    elif(rich.iloc[i,12] > 80):\n",
    "        work4 = work4 + 1\n",
    "\n",
    "sum = work0 + work1 + work2 + work3 + work4\n",
    "r12_prob0 = work0 / sum\n",
    "r12_prob1 = work1 / sum\n",
    "r12_prob2 = work2 / sum\n",
    "r12_prob3 = work3 / sum\n",
    "r12_prob4 = work4 / sum\n",
    "\n",
    "print(\"Conditional Probabilty of working hours <= 20 given the income is greater than 50k is: \", r12_prob0)\n",
    "print(\"Conditional Probabilty of 20 < working hours <= 40 given the income is greater than 50k is: \", r12_prob1)\n",
    "print(\"Conditional Probabilty of 40 < working hours <= 60 given the income is greater than 50k is: \", r12_prob2)\n",
    "print(\"Conditional Probabilty of 60 < working hours <= 80 given the income is greater than 50k is: \", r12_prob3)\n",
    "print(\"Conditional Probabilty of working hours > 80 given the income is greater than 50k is: \", r12_prob4)"
   ]
  },
  {
   "cell_type": "code",
   "execution_count": 74,
   "id": "e792cfd9",
   "metadata": {},
   "outputs": [
    {
     "name": "stdout",
     "output_type": "stream",
     "text": [
      "Conditional Probabilty of working hours <= 20 given the income is less than or equal to 50k is:  0.10028276451634116\n",
      "Conditional Probabilty of 20 < working hours <= 40 given the income is less than or equal to 50k is:  0.6560794371013349\n",
      "Conditional Probabilty of 40 < working hours <= 60 given the income is less than or equal to 50k is:  0.2135200894324982\n",
      "Conditional Probabilty of 60 < working hours <= 80 given the income is less than or equal to 50k is:  0.024002104294075097\n",
      "Conditional Probabilty of working hours > 80 given the income is less than or equal to 50k is:  0.0061156046557506415\n"
     ]
    }
   ],
   "source": [
    "work0, work1, work2, work3, work4 = 0,0,0,0,0\n",
    "for i in range(len(poor)):\n",
    "    if(poor.iloc[i,12] <= 20.0):\n",
    "        work0 = work0 + 1\n",
    "    elif(poor.iloc[i,12] <= 40.0 and poor.iloc[i,12] > 20):\n",
    "        work1 = work1 + 1\n",
    "    elif(poor.iloc[i,12] <= 60.0 and poor.iloc[i,12] > 40):\n",
    "        work2 = work2 + 1\n",
    "    elif(poor.iloc[i,12] <= 80.0 and poor.iloc[i,12] > 60):\n",
    "        work3 = work3 + 1\n",
    "    elif(poor.iloc[i,12] > 80):\n",
    "        work4 = work4 + 1\n",
    "\n",
    "sum = work0 + work1 + work2 + work3 + work4\n",
    "p12_prob0 = work0 / sum\n",
    "p12_prob1 = work1 / sum\n",
    "p12_prob2 = work2 / sum\n",
    "p12_prob3 = work3 / sum\n",
    "p12_prob4 = work4 / sum\n",
    "\n",
    "print(\"Conditional Probabilty of working hours <= 20 given the income is less than or equal to 50k is: \", p12_prob0)\n",
    "print(\"Conditional Probabilty of 20 < working hours <= 40 given the income is less than or equal to 50k is: \", p12_prob1)\n",
    "print(\"Conditional Probabilty of 40 < working hours <= 60 given the income is less than or equal to 50k is: \", p12_prob2)\n",
    "print(\"Conditional Probabilty of 60 < working hours <= 80 given the income is less than or equal to 50k is: \", p12_prob3)\n",
    "print(\"Conditional Probabilty of working hours > 80 given the income is less than or equal to 50k is: \", p12_prob4)"
   ]
  },
  {
   "cell_type": "code",
   "execution_count": 75,
   "id": "7688aa38",
   "metadata": {},
   "outputs": [
    {
     "name": "stdout",
     "output_type": "stream",
     "text": [
      "Country counts: [4655, 41, 31, 29, 24, 23, 21, 19, 17, 15, 13, 12, 9, 9, 8, 7, 7, 6, 6, 6, 6, 5, 4, 4, 3, 3, 3, 2, 2, 2, 2, 2, 1, 1, 1, 1, 1]\n",
      "Country probabilities: [0.9308138372325535, 0.0011997600479904018, 0.004799040191961607, 0.001799640071985603, 0.004599080183963208, 0.0061987602479504095, 0, 0.0057988402319536095, 0.0033993201359728054, 0.0011997600479904018, 0.0013997200559888023, 0.0023995200959808036, 0.003799240151969606, 0.001799640071985603, 0.0001999600079984003, 0.008198360327934412, 0.002999400119976005, 0.0013997200559888023, 0.0011997600479904018, 0.0007998400319936012, 0.004199160167966407, 0.0005998800239952009, 0.0009998000399920016, 0.0015996800639872025, 0.0003999200159968006, 0.0001999600079984003, 0.0003999200159968006, 0.002599480103979204, 0.0005998800239952009, 0.0001999600079984003, 0.0003999200159968006, 0.0003999200159968006, 0.0001999600079984003, 0.0001999600079984003, 0, 0.0005998800239952009, 0.0011997600479904018, 0, 0.0003999200159968006, 0.0007998400319936012, 0]\n"
     ]
    }
   ],
   "source": [
    "\n",
    "country_counts = rich.iloc[:, 13].value_counts()\n",
    "country_counts_list = country_counts.tolist()\n",
    "country_names_list = country_counts.index.tolist()\n",
    "\n",
    "\n",
    "country_names = ['United-States', 'Cambodia', 'England', 'Puerto-Rico', 'Canada', 'Germany', 'Outlying-US(Guam-USVI-etc)',\n",
    "                 'India', 'Japan', 'Greece', 'South', 'China', 'Cuba', 'Iran', 'Honduras', 'Philippines', 'Italy',\n",
    "                 'Poland', 'Jamaica', 'Vietnam', 'Mexico', 'Portugal', 'Ireland', 'France', 'Dominican-Republic',\n",
    "                 'Laos', 'Ecuador', 'Taiwan', 'Haiti', 'Columbia', 'Hungary', 'Guatemala', 'Nicaragua', 'Scotland',\n",
    "                 'Thailand', 'Yugoslavia', 'El-Salvador', 'Trinadad&Tobago', 'Peru', 'Hong', 'Holand-Netherlands']\n",
    "\n",
    "\n",
    "total_count = 0\n",
    "for count in country_counts_list:\n",
    "    total_count += count\n",
    "\n",
    "\n",
    "rcountry_probabilities_list = []\n",
    "\n",
    "for name in country_names:\n",
    "    if name in country_names_list:\n",
    "\n",
    "        index = country_names_list.index(name)\n",
    "    \n",
    "        count = country_counts_list[index]\n",
    "    \n",
    "        probability = count / total_count\n",
    "        rcountry_probabilities_list.append(probability)\n",
    "    else:\n",
    "\n",
    "        rcountry_probabilities_list.append(0)\n",
    "\n",
    "\n",
    "print(\"Country counts:\", country_counts_list)\n",
    "print(\"Country probabilities:\", rcountry_probabilities_list)\n",
    "\n"
   ]
  },
  {
   "cell_type": "code",
   "execution_count": 76,
   "id": "c58688b6",
   "metadata": {},
   "outputs": [
    {
     "name": "stdout",
     "output_type": "stream",
     "text": [
      "Country counts: [13791, 370, 91, 66, 59, 58, 47, 47, 42, 40, 40, 39, 38, 37, 35, 33, 33, 31, 31, 26, 24, 22, 22, 20, 18, 18, 14, 14, 14, 11, 10, 10, 10, 10, 7, 7, 6, 5, 5, 5, 1]\n",
      "Country probabilities: [0.906884987176958, 0.0004603143289274676, 0.0024988492141776813, 0.004340106529887552, 0.003090681922798711, 0.003879792200960084, 0.000723351088314592, 0.0027618859735648055, 0.001578220556322746, 0.0011836654172420597, 0.002170053264943776, 0.002301571644637338, 0.0024330900243309003, 0.0009206286578549352, 0.00032879594923390545, 0.005984086276057079, 0.002170053264943776, 0.0020385348852502137, 0.003090681922798711, 0.0026303675938712436, 0.024330900243309004, 0.001446702176629184, 0.0009206286578549352, 0.0006575918984678109, 0.0026303675938712436, 0.0006575918984678109, 0.0011836654172420597, 0.0009206286578549352, 0.0017097389360163082, 0.0020385348852502137, 0.0004603143289274676, 0.0025646084040244622, 0.0013151837969356218, 0.00032879594923390545, 0.0003945551390806865, 0.00032879594923390545, 0.003814033011113303, 0.0006575918984678109, 0.001446702176629184, 0.0006575918984678109, 6.575918984678108e-05]\n"
     ]
    }
   ],
   "source": [
    "\n",
    "country_counts = poor.iloc[:, 13].value_counts()\n",
    "pcountry_counts_list = country_counts.tolist()\n",
    "country_names_list = country_counts.index.tolist()\n",
    "\n",
    "\n",
    "country_names = ['United-States', 'Cambodia', 'England', 'Puerto-Rico', 'Canada', 'Germany', 'Outlying-US(Guam-USVI-etc)',\n",
    "                 'India', 'Japan', 'Greece', 'South', 'China', 'Cuba', 'Iran', 'Honduras', 'Philippines', 'Italy',\n",
    "                 'Poland', 'Jamaica', 'Vietnam', 'Mexico', 'Portugal', 'Ireland', 'France', 'Dominican-Republic',\n",
    "                 'Laos', 'Ecuador', 'Taiwan', 'Haiti', 'Columbia', 'Hungary', 'Guatemala', 'Nicaragua', 'Scotland',\n",
    "                 'Thailand', 'Yugoslavia', 'El-Salvador', 'Trinadad&Tobago', 'Peru', 'Hong', 'Holand-Netherlands']\n",
    "\n",
    "\n",
    "total_count = 0\n",
    "for count in pcountry_counts_list:\n",
    "    total_count += count\n",
    "\n",
    "\n",
    "pcountry_probabilities_list = []\n",
    "\n",
    "\n",
    "for name in country_names:\n",
    "    if name in country_names_list:\n",
    " \n",
    "        index = country_names_list.index(name)\n",
    "      \n",
    "        count = pcountry_counts_list[index]\n",
    "     \n",
    "        probability = count / total_count\n",
    "        pcountry_probabilities_list.append(probability)\n",
    "    else:\n",
    " \n",
    "        pcountry_probabilities_list.append(0)\n",
    "\n",
    "\n",
    "print(\"Country counts:\", pcountry_counts_list)\n",
    "print(\"Country probabilities:\", pcountry_probabilities_list)\n",
    "\n"
   ]
  },
  {
   "cell_type": "code",
   "execution_count": 77,
   "id": "e7970ee3",
   "metadata": {},
   "outputs": [],
   "source": [
    "ans = test['Salary'].tolist()\n",
    "r_p = prior(test)"
   ]
  },
  {
   "cell_type": "code",
   "execution_count": 78,
   "id": "eeace121",
   "metadata": {},
   "outputs": [],
   "source": [
    "ques = []\n",
    "count = 0\n",
    "for i in range(len(test)):\n",
    "    response = []\n",
    "    if(test.iloc[i,0] <= 20.0):\n",
    "        response.append(0)\n",
    "    elif(test.iloc[i,0] <= 30.0 and test.iloc[i,0] > 20):\n",
    "        response.append(1)\n",
    "    elif(test.iloc[i,0] <= 40.0 and test.iloc[i,0] > 30):\n",
    "        response.append(2)\n",
    "    elif(test.iloc[i,0] <= 50.0 and test.iloc[i,0] > 40):\n",
    "        response.append(3)\n",
    "    elif(test.iloc[i,0] > 50):\n",
    "        response.append(4)\n",
    "\n",
    "    if(test.iloc[i,1] == 'Private'):\n",
    "        response.append(0)\n",
    "    elif(test.iloc[i,1] == 'Self-emp-not-inc'):\n",
    "        response.append(1)\n",
    "    elif(test.iloc[i,1] == 'Self-emp-inc'):\n",
    "        response.append(2)\n",
    "    elif(test.iloc[i,1] == 'Federal-gov'):\n",
    "        response.append(3)\n",
    "    elif(test.iloc[i,1] == 'Local-gov'):\n",
    "        response.append(4)\n",
    "    elif(test.iloc[i,1] == 'State-gov'):\n",
    "        response.append(5)\n",
    "    elif(test.iloc[i,1] == 'Without-pay'):\n",
    "        response.append(6)\n",
    "    elif(test.iloc[i,1] == 'Never-worked'):\n",
    "        response.append(7)\n",
    "\n",
    "    response.append(1)\n",
    "\n",
    "    if(test.iloc[i,3] == 'Bachelors'):\n",
    "        response.append(0)\n",
    "    elif(test.iloc[i,3] == 'Some-college'):\n",
    "        response.append(1)\n",
    "    elif(test.iloc[i,3] == '11th'):\n",
    "        response.append(2)\n",
    "    elif(test.iloc[i,3] == 'HS-grad'):\n",
    "        response.append(3)\n",
    "    elif(test.iloc[i,3] == 'Prof-school'):\n",
    "        response.append(4)\n",
    "    elif(test.iloc[i,3] == 'Assoc-acdm'):\n",
    "        response.append(5)\n",
    "    elif(test.iloc[i,3] == 'Assoc-voc'):\n",
    "        response.append(6)\n",
    "    elif(test.iloc[i,3] == '9th'):\n",
    "        response.append(7)\n",
    "    elif(test.iloc[i,3] == '7th-8th'):\n",
    "        response.append(8)\n",
    "    elif(test.iloc[i,3] == '12th'):\n",
    "        response.append(9)\n",
    "    elif(test.iloc[i,3] == 'Masters'):\n",
    "        response.append(10)\n",
    "    elif(test.iloc[i,3] == '1st-4th'):\n",
    "        response.append(11)\n",
    "    elif(test.iloc[i,3] == '10th'):\n",
    "        response.append(12)\n",
    "    elif(test.iloc[i,3] == 'Doctorate'):\n",
    "        response.append(13)\n",
    "    elif(test.iloc[i,3] == '5th-6th'):\n",
    "        response.append(14)\n",
    "    elif(test.iloc[i,3] == 'Preschool'):\n",
    "        response.append(15)\n",
    "\n",
    "    if(test.iloc[i,4] <= 4):\n",
    "        response.append(0)\n",
    "    elif(test.iloc[i,4] <= 8 and test.iloc[i,4] > 4):\n",
    "        response.append(1)\n",
    "    elif(test.iloc[i,4] <= 12 and test.iloc[i,4] > 8):\n",
    "        response.append(2)\n",
    "    elif(test.iloc[i,4] > 12):\n",
    "        response.append(3)\n",
    "\n",
    "    if(test.iloc[i,5] == 'Married-civ-spouse'):\n",
    "        response.append(0)\n",
    "    elif(test.iloc[i,5] == 'Divorced'):\n",
    "        response.append(1)\n",
    "    elif(test.iloc[i,5] == 'Never-married'):\n",
    "        response.append(2)\n",
    "    elif(test.iloc[i,5] == 'Separated'):\n",
    "        response.append(3)\n",
    "    elif(test.iloc[i,5] == 'Widowed'):\n",
    "        response.append(4)\n",
    "    elif(test.iloc[i,5] == 'Married-spouse-absent'):\n",
    "        response.append(5)\n",
    "    elif(test.iloc[i,5] == 'Married-AF-spouse'):\n",
    "        response.append(6)\n",
    "\n",
    "    if(test.iloc[i,6] == 'Tech-support'):\n",
    "        response.append(0)\n",
    "    elif(test.iloc[i,6] == 'Craft-repair'):\n",
    "        response.append(1)\n",
    "    elif(test.iloc[i,6] == 'Other-service'):\n",
    "        response.append(2)\n",
    "    elif(test.iloc[i,6] == 'Sales'):\n",
    "        response.append(3)\n",
    "    elif(test.iloc[i,6] == 'Exec-managerial'):\n",
    "        response.append(4)\n",
    "    elif(test.iloc[i,6] == 'Prof-specialty'):\n",
    "        response.append(5)\n",
    "    elif(test.iloc[i,6] == 'Handlers-cleaners'):\n",
    "        response.append(6)\n",
    "    elif(test.iloc[i,6] == 'Machine-op-inspct'):\n",
    "        response.append(7)\n",
    "    elif(test.iloc[i,6] == 'Adm-clerical'):\n",
    "        response.append(8)\n",
    "    elif(test.iloc[i,6] == 'Farming-fishing'):\n",
    "        response.append(9)\n",
    "    elif(test.iloc[i,6] == 'Transport-moving'):\n",
    "        response.append(10)\n",
    "    elif(test.iloc[i,6] == 'Priv-house-serv'):\n",
    "        response.append(11)\n",
    "    elif(test.iloc[i,6] == 'Protective-serv'):\n",
    "        response.append(12)\n",
    "    elif(test.iloc[i,6] == 'Armed-Forces'):\n",
    "        response.append(13)\n",
    "\n",
    "    if(test.iloc[i,7] == 'Wife'):\n",
    "        response.append(0)\n",
    "    elif(test.iloc[i,7] == 'Own-child'):\n",
    "        response.append(1)\n",
    "    elif(test.iloc[i,7] == 'Husband'):\n",
    "        response.append(2)\n",
    "    elif(test.iloc[i,7] == 'Not-in-family'):\n",
    "        response.append(3)\n",
    "    elif(test.iloc[i,7] == 'Other-relative'):\n",
    "        response.append(4)\n",
    "    elif(test.iloc[i,7] == 'Unmarried'):\n",
    "        response.append(5)\n",
    "    \n",
    "    if(test.iloc[i,8] == 'White'):\n",
    "        response.append(0)\n",
    "    elif(test.iloc[i,8] == 'Asian-Pac-Islander'):\n",
    "        response.append(1)\n",
    "    elif(test.iloc[i,8] == 'Amer-Indian-Eskimo'):\n",
    "        response.append(2)\n",
    "    elif(test.iloc[i,8] == 'Other'):\n",
    "        response.append(3)\n",
    "    elif(test.iloc[i,8] == 'Black'):\n",
    "        response.append(4)\n",
    "\n",
    "    if(test.iloc[i,9] == 'Male'):\n",
    "        response.append(0)\n",
    "    elif(test.iloc[i,9] == 'Female'):\n",
    "        response.append(1)\n",
    "\n",
    "    if(test.iloc[i,10] == 0):\n",
    "        response.append(0)\n",
    "    elif(test.iloc[i,10] != 0):\n",
    "        response.append(1)\n",
    "    \n",
    "    if(test.iloc[i,11] == 0):\n",
    "        response.append(0)\n",
    "    elif(test.iloc[i,11] != 0):\n",
    "        response.append(1)\n",
    "\n",
    "    if(test.iloc[i,12] <= 20.0):\n",
    "        response.append(0)\n",
    "    elif(test.iloc[i,12] <= 40.0 and test.iloc[i,12] > 20):\n",
    "        response.append(1)\n",
    "    elif(test.iloc[i,12] <= 60.0 and test.iloc[i,12] > 40):\n",
    "        response.append(2)\n",
    "    elif(test.iloc[i,12] <= 80.0 and test.iloc[i,12] > 60):\n",
    "        response.append(3)\n",
    "    elif(test.iloc[i,12] > 80):\n",
    "        response.append(4)\n",
    "\n",
    "    for j in range(len(country_names_list) - 2):\n",
    "        if(test.iloc[i,13] == country_names_list[j]):\n",
    "            response.append(j)\n",
    "\n",
    "    \n",
    "\n",
    "    part1 = 1\n",
    "    part2 = 1\n",
    "    for k in range(len(test.columns) - 2):\n",
    "        if k == 2:\n",
    "            continue\n",
    "            \n",
    "        part1 *= globals()[f\"r{k}_prob{response[k]}\"]\n",
    "\n",
    "    a = response[-1]\n",
    "    part1 = part1 * rcountry_probabilities_list[a]\n",
    "  \n",
    "    part2 = part2 * pcountry_probabilities_list[a]\n",
    "\n",
    "    for l in range(len(test.columns) - 2):\n",
    "        if l == 2:\n",
    "            continue\n",
    "        \n",
    "        part2 *= globals()[f\"p{l}_prob{response[l]}\"]\n",
    "\n",
    "\n",
    "    if(part1 == 0 and part2 == 0):\n",
    "        final_prob = 0\n",
    "    else:\n",
    "        final_prob = part1 * r_p[0] / ((part1 * r_p[0]) + (part2 * r_p[1]))\n",
    "    \n",
    "    if(final_prob >= 0.5):\n",
    "        ques.append('>50K')\n",
    "    else:\n",
    "        ques.append('<=50K')\n",
    "\n",
    "    if(ques[i] == ans[i]):\n",
    "        count = count + 1\n",
    " "
   ]
  },
  {
   "cell_type": "code",
   "execution_count": 79,
   "id": "557e943a",
   "metadata": {},
   "outputs": [
    {
     "data": {
      "text/plain": [
       "0.8117339762909384"
      ]
     },
     "execution_count": 79,
     "metadata": {},
     "output_type": "execute_result"
    }
   ],
   "source": [
    "accuracy = count/len(test)\n",
    "accuracy"
   ]
  },
  {
   "cell_type": "markdown",
   "id": "4b8db8ad",
   "metadata": {},
   "source": [
    ">50k is a positive\n",
    "<=50k is a negative"
   ]
  },
  {
   "cell_type": "code",
   "execution_count": 86,
   "id": "f87d18ed",
   "metadata": {},
   "outputs": [
    {
     "name": "stdout",
     "output_type": "stream",
     "text": [
      "Recall: 0.7542879936178699\n",
      "Precision: 0.6005080978088282\n",
      "F1 Score: 0.6686704384724186\n"
     ]
    }
   ],
   "source": [
    "true_p = 0\n",
    "true_n = 0\n",
    "false_p = 0\n",
    "false_n = 0\n",
    "for i in range(len(ques)):\n",
    "    if(ques[i] == '>50K' and ans[i] == '>50K'):\n",
    "        true_p = true_p + 1\n",
    "    elif(ques[i] == '>50K' and ans[i] == '<=50K'):\n",
    "        false_p = false_p + 1\n",
    "    elif(ques[i] == '<=50K' and ans[i] == '<=50K'):\n",
    "        true_n = true_n + 1\n",
    "    elif(ques[i] == '<=50K' and ans[i] == '>50K'):\n",
    "        false_n = false_n + 1\n",
    "\n",
    "recall = true_p / (true_p + false_n)\n",
    "precision = true_p / (true_p + false_p)\n",
    "f1_score = 2 * recall * precision / (precision + recall)\n",
    "\n",
    "print(\"Recall:\", recall)\n",
    "print(\"Precision:\", precision)\n",
    "print(\"F1 Score:\", f1_score)"
   ]
  },
  {
   "cell_type": "markdown",
   "id": "1b401df6",
   "metadata": {},
   "source": [
    "## Laplace Smoothing"
   ]
  },
  {
   "cell_type": "markdown",
   "id": "d48f816b",
   "metadata": {},
   "source": []
  }
 ],
 "metadata": {
  "kernelspec": {
   "display_name": "Python 3 (ipykernel)",
   "language": "python",
   "name": "python3"
  },
  "language_info": {
   "codemirror_mode": {
    "name": "ipython",
    "version": 3
   },
   "file_extension": ".py",
   "mimetype": "text/x-python",
   "name": "python",
   "nbconvert_exporter": "python",
   "pygments_lexer": "ipython3",
   "version": "3.8.8"
  },
  "vscode": {
   "interpreter": {
    "hash": "8241c51ca8075870cd301b4c7677609d339d8e153fe05fd7709d9be3fdab28e2"
   }
  }
 },
 "nbformat": 4,
 "nbformat_minor": 5
}
